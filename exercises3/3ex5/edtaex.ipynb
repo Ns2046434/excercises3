{
 "cells": [
  {
   "cell_type": "markdown",
   "metadata": {},
   "source": [
    "Given: Two protein strings s\n",
    " and t\n",
    " in FASTA format (with each string having length at most 1000 aa).\n",
    "\n",
    "Return: The edit distance dE(s,t)\n",
    " followed by two augmented strings s′\n",
    " and t′\n",
    " representing an optimal alignment of s\n",
    " and t\n"
   ]
  },
  {
   "cell_type": "code",
   "execution_count": 2,
   "metadata": {},
   "outputs": [
    {
     "name": "stdout",
     "output_type": "stream",
     "text": [
      "341\n",
      "V---VFMLI-YLPHPHAMRFHYRHVVNVPNCMRTIHQ-KMMGDGNDYGLFEGEDQTFSQFCWDTWS---L-KA-MGSI-TYVDGTYT---Q--GTYRHCTKWTFNDAHTFKVGSK--KKEIVITYAITVMRFSQLLKRVLKLVK-QAKMDYNCHYETNMTWCS-ATVMLMFQNDCTVSVAHRHPG-----SKYWYSKVVPKQPDRCPMVNWSAWQIMPDWDWHNHGQWKMWWASTNGVPQVSVWKDKRKV-GLEQVFTIIRHGPYR--SHV--S---ASGWCD-GP-----HCQKFECCAH--LFNWYEWKWSKNIWWDVIFLHECGNRDKLACHTCTICNIDRDDQYVKDATQ-RKVLHEEADWALSWVKKCRGAVRSLNLVKYWWWRIYLLRAYIRNTSNE-C---IDGYSCWVHKVMVLKYWH-AESGASAWTDMQNFNMAWVKFKNGEHKLSKDTSMHRGARYPSAHRASMWLEWYMCHGECWWIRHAQEEMLDILVPPLNVVKKWADIMNKKEEDHEACPEMLSYIFSEHVRKIFVAFAMSHIDVMCYWEAFTKTFPSDDKCLLSRAKLASNQHWWWMPLHGVY-MLVLMKQLRTSQFHYLWSKAFIFYFACPKFRCNRSHANWCYDNKRAKGMKASMMYTKPSSTQWRKNDQFFQLIWWEQGRRMFRLFHAPMNIAGQLPRLSYSIINVMKNEHEQVHICIWA-A----YG----C--CNCAYHRPCLCR---VAKYLYWEFYCWKIRGKPKATTMAYIQFAHPYQFARMIQHMI-RLTC----LCNNYRYYAAQHHHRDFDDTWIPVLVF\n",
      "YMPSVFQNRPYFDHCQMM----R--VNVPIHYGNSWWWKEMGDGNDYQ-FTP----FSQFCHDTWSLKNLNKARMGSIST-VDGTYTVVQQHIGTYRHCTKW---D-HTFCLGDWTFKKEFVITYAITVMRF--LLGRTLKLVKVQH--DYNCKYETNETWCKTAKVMLMFQNDCTKS---RHPLVCSMNSKYWYSKVVS-QSAYFKQPDR-AWQILPDTSEAQQCIWKMWWASTNGVPENSYWKDKRKPGGLEQVFTIIGHGPYQCWSHGTLSHVYASGWCLPGTFIWGRHYQKFECKNIWELF-WFDVIPFIDLHMNRAFWI-CGNRAKLPCHTCTICNIDAT-QR-KI-THMRKCESREPGISD-WVGHQLWLSWVL-LVKYHWWRI-LLRA----TSNMCCTFQIDTYD-WVHKVMVLKYDHEAESG--A--DMQNFNMIWVKFKNGEHKL----S---GLRYPSAHRA-MCHVC-MDLDECDWHRHAQEEMLDILYPPLNVVKKWADIAGQWLTYRWACPEMASWIFSEHVRLSKYMICI-HIDVMCY-------------C-L---KMM--QHWWWMPLHGVDVMQA-MDQLRTSQFHYLWFHGFKDQFACIG-------ANWCYDNKRAKGMPASMMYTK-SQTQWR-----FQLIWWEQGRRMLRLFHAPMNIAGGLNRLSY--INVMKNEHEQVHICIWAGAQLPGYGLKEKCLICSCAYHRPCLCEHYNVIKYLYWEFYCWK---K-K-TTMAYIQFAHPYQFARMIEMMIFRLTEVQKGLCNNYRYYAADAA---FHHMKACVLVF\n"
     ]
    }
   ],
   "source": [
    "seqstr = []\n",
    "with open(\"rosalind_edta.txt\", 'r') as fa:\n",
    "    seq = \"\"\n",
    "    for line in fa:\n",
    "        line = line.strip()\n",
    "        if line.startswith(\">\"):\n",
    "            if seq: \n",
    "                seqstr.append(seq)\n",
    "                seq = \"\"\n",
    "        else:\n",
    "            seq += line \n",
    "    if seq: \n",
    "        seqstr.append(seq)\n",
    "\n",
    "def edit_distance(s, t):\n",
    "    m, n = len(s), len(t)\n",
    "    dp = [[0] * (n + 1) for _ in range(m + 1)]\n",
    "    for i in range(m + 1):\n",
    "        dp[i][0] = i  \n",
    "    for j in range(n + 1):\n",
    "        dp[0][j] = j \n",
    "    \n",
    "    for i in range(1, m + 1):\n",
    "        for j in range(1, n + 1):\n",
    "            if s[i - 1] == t[j - 1]:\n",
    "                dp[i][j] = dp[i - 1][j - 1] \n",
    "            else:\n",
    "                dp[i][j] = min(dp[i - 1][j] + 1, \n",
    "                               dp[i][j - 1] + 1,  \n",
    "                               dp[i - 1][j - 1] + 1)  \n",
    "    \n",
    "    \n",
    "    aligned_s, aligned_t = [], []\n",
    "    i, j = m, n\n",
    "    while i > 0 or j > 0:\n",
    "        if i > 0 and j > 0 and s[i - 1] == t[j - 1]:\n",
    "            aligned_s.append(s[i - 1])\n",
    "            aligned_t.append(t[j - 1])\n",
    "            i -= 1\n",
    "            j -= 1\n",
    "        elif i > 0 and (j == 0 or dp[i][j] == dp[i - 1][j] + 1):\n",
    "            aligned_s.append(s[i - 1])\n",
    "            aligned_t.append('-')\n",
    "            i -= 1\n",
    "        elif j > 0 and (i == 0 or dp[i][j] == dp[i][j - 1] + 1):\n",
    "            aligned_s.append('-') \n",
    "            aligned_t.append(t[j - 1])\n",
    "            j -= 1\n",
    "        else: \n",
    "            aligned_s.append(s[i - 1])\n",
    "            aligned_t.append(t[j - 1])\n",
    "            i -= 1\n",
    "            j -= 1\n",
    "    \n",
    "    aligned_s.reverse()\n",
    "    aligned_t.reverse()\n",
    "    return dp[m][n], ''.join(aligned_s), ''.join(aligned_t)\n",
    "\n",
    "s, t = seqstr[0], seqstr[1]\n",
    "distance, aligned_s, aligned_t = edit_distance(s, t)\n",
    "print(distance)\n",
    "print(aligned_s)\n",
    "print(aligned_t)\n"
   ]
  }
 ],
 "metadata": {
  "kernelspec": {
   "display_name": "base",
   "language": "python",
   "name": "python3"
  },
  "language_info": {
   "codemirror_mode": {
    "name": "ipython",
    "version": 3
   },
   "file_extension": ".py",
   "mimetype": "text/x-python",
   "name": "python",
   "nbconvert_exporter": "python",
   "pygments_lexer": "ipython3",
   "version": "3.11.5"
  }
 },
 "nbformat": 4,
 "nbformat_minor": 2
}
