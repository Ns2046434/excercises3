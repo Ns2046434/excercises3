{
 "cells": [
  {
   "cell_type": "markdown",
   "metadata": {},
   "source": [
    "Given: A positive integer n≤10000\n",
    " followed by a permutation π\n",
    " of length n\n",
    ".\n",
    "\n",
    "Return: A longest increasing subsequence of π\n",
    ", followed by a longest decreasing subsequence of π\n",
    "."
   ]
  },
  {
   "cell_type": "code",
   "execution_count": 16,
   "metadata": {},
   "outputs": [
    {
     "name": "stdout",
     "output_type": "stream",
     "text": [
      "190 206 242 253 395 411 421 457 482 485 497 511 514 615 661 694 705 721 724 734 779 867 953 1058 1104 1123 1151 1182 1217 1255 1316 1409 1499 1519 1570 1698 1711 1738 1795 1877 1915 1941 1983 1988 1990 1999 2020 2065 2079 2132 2182 2192 2202 2213 2250 2255 2269 2326 2331 2361 2364 2428 2569 2648 2685 2746 2763 2799 2956 2992 3002 3081 3182 3258 3440 3502 3596 3696 3729 3790 3862 3872 3923 3970 4093 4197 4273 4303 4474 4529 4533 4656 4728 4745 4753 4763 4777 4824 4862 4886 4933 5010 5046 5050 5110 5187 5205 5230 5367 5397 5473 5474 5520 5545 5549 5559 5717 5868 5934 5953 5967 5975 6016 6097 6165 6188 6192 6215 6252 6253 6260 6281 6287 6371 6388 6432 6522 6569 6570 6608 6652 6736 6819 6842 6850 6869 6882 6955 7159 7160 7408 7468 7521 7597 7657 7669 7928 7992 8024 8037 8077 8131 8147 8162 8214 8226 8313 8319 8329 8358 8434 8442 8473 8478 8493 8540 8569 8578 8641 8674\n",
      "8646 8573 8488 8426 8322 8306 8253 8130 8110 8080 8069 8030 8028 7988 7946 7894 7890 7845 7831 7816 7783 7661 7620 7538 7491 7412 7369 7356 7342 7286 7132 7109 6985 6973 6966 6965 6924 6889 6867 6800 6783 6743 6710 6686 6657 6547 6517 6483 6437 6428 6392 6367 6304 6239 6232 6155 6132 6104 6095 6079 6065 5832 5730 5705 5699 5665 5661 5643 5606 5604 5600 5582 5568 5507 5502 5496 5486 5477 5470 5469 5429 5416 5393 5375 5311 5273 5257 5225 5131 5021 4886 4861 4817 4654 4573 4511 4498 4467 4451 4430 4373 4313 4287 4217 4153 4058 4050 4008 3905 3878 3864 3576 3535 3493 3471 3365 3352 3308 3284 3281 3210 3203 3184 3124 3039 3029 3010 2978 2960 2945 2918 2890 2851 2777 2749 2727 2700 2631 2540 2525 2442 2400 2286 2264 2102 2024 2016 1991 1928 1878 1857 1815 1758 1750 1611 1606 1578 1548 1537 1481 1445 1414 1343 1310 1252 1206 1202 1169 1117 1093 1057 958 901 846 725 663 649 573 563 561 500 447 349 312 247 72\n"
     ]
    }
   ],
   "source": [
    "with open(\"rosalind_lgis.txt\") as f:\n",
    "    n = int(f.readline().strip())\n",
    "    nums = list(map(int, f.readline().strip().split()))\n",
    "\n",
    "\n",
    "def inc(nums):\n",
    "    n = len(nums)\n",
    "    if n == 0:\n",
    "        return []\n",
    "    dp = [1] * n\n",
    "    prev = [-1] * n\n",
    "    for i in range(1, n):\n",
    "        for j in range(i):\n",
    "            if nums[j] < nums[i] and dp[j] + 1 > dp[i]:\n",
    "                dp[i] = dp[j] + 1\n",
    "                prev[i] = j\n",
    "\n",
    "    maxx = max(dp)\n",
    "    maxxi = dp.index(maxx)\n",
    "\n",
    "    lis = []\n",
    "    while maxxi != -1:\n",
    "        lis.append(nums[maxxi])\n",
    "        maxxi = prev[maxxi]\n",
    "    return lis[::-1] \n",
    "\n",
    "\n",
    "def dec(nums):\n",
    "    n = len(nums)\n",
    "    if n == 0:\n",
    "        return []\n",
    "    dp = [1] * n\n",
    "    prev = [-1] * n\n",
    "    for i in range(1, n):\n",
    "        for j in range(i):\n",
    "            if nums[j] > nums[i] and dp[j] + 1 > dp[i]:\n",
    "                dp[i] = dp[j] + 1\n",
    "                prev[i] = j\n",
    "\n",
    "    maxx = max(dp)\n",
    "    maxxi = dp.index(maxx)\n",
    "\n",
    "    lds = []\n",
    "    while maxxi != -1:\n",
    "        lds.append(nums[maxxi])\n",
    "        maxxi = prev[maxxi]\n",
    "    return lds[::-1] \n",
    "\n",
    "lis = inc(nums)\n",
    "lds = dec(nums)\n",
    "\n",
    "print(\" \".join(map(str, lis)))\n",
    "print(\" \".join(map(str, lds)))"
   ]
  }
 ],
 "metadata": {
  "kernelspec": {
   "display_name": "base",
   "language": "python",
   "name": "python3"
  },
  "language_info": {
   "codemirror_mode": {
    "name": "ipython",
    "version": 3
   },
   "file_extension": ".py",
   "mimetype": "text/x-python",
   "name": "python",
   "nbconvert_exporter": "python",
   "pygments_lexer": "ipython3",
   "version": "3.11.5"
  }
 },
 "nbformat": 4,
 "nbformat_minor": 2
}
