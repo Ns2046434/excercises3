{
 "cells": [
  {
   "cell_type": "markdown",
   "metadata": {},
   "source": [
    "Given: Two protein strings s\n",
    " and t\n",
    " in FASTA format, each of length at most 1000 aa.\n",
    "\n",
    "Return: The total number of optimal alignments of s\n",
    " and t\n",
    " with respect to edit alignment score, modulo 134,217,727 (227-1)."
   ]
  },
  {
   "cell_type": "code",
   "execution_count": 26,
   "metadata": {},
   "outputs": [
    {
     "name": "stdout",
     "output_type": "stream",
     "text": [
      "8827063\n"
     ]
    }
   ],
   "source": [
    "seqstr = []\n",
    "with open(\"rosalind_ctea.txt\", 'r') as fa:\n",
    "    seq = \"\"\n",
    "    for line in fa:\n",
    "        line = line.strip()\n",
    "        if line.startswith(\">\"):\n",
    "            if seq: \n",
    "                seqstr.append(seq)\n",
    "                seq = \"\"\n",
    "        else:\n",
    "            seq += line \n",
    "    if seq: \n",
    "        seqstr.append(seq)\n",
    "\n",
    "def ctea(s1, s2):\n",
    "    score, routes = {}, {}\n",
    "    for j in range(len(s2) + 1):\n",
    "        score[j, 0] = j\n",
    "        routes[j, 0] = 1\n",
    "\n",
    "    for i in range(len(s1) + 1):\n",
    "        score[0, i] = i\n",
    "        routes[0, i] = 1\n",
    "\n",
    "    for j in range(len(s2)):\n",
    "        for i in range(len(s1)):\n",
    "            pos = [(j + 1, i), (j, i), (j, i + 1)]\n",
    "            cost = [1, int(s1[i] != s2[j]), 1]\n",
    "            scores = [score[pos[x]] + cost[x] for x in range(3)]\n",
    "            best = min(scores)\n",
    "            new = (j + 1, i + 1)\n",
    "            score[new] = best\n",
    "            routes[new] = sum(routes[pos[x]] for x in range(3) if scores[x] == best)\n",
    "\n",
    "    return routes[len(s2), len(s1)] % 134217727\n",
    "\n",
    "s, t = seqstr[0], seqstr[1]\n",
    "result = ctea(s, t)\n",
    "print(result)\n"
   ]
  }
 ],
 "metadata": {
  "kernelspec": {
   "display_name": "base",
   "language": "python",
   "name": "python3"
  },
  "language_info": {
   "codemirror_mode": {
    "name": "ipython",
    "version": 3
   },
   "file_extension": ".py",
   "mimetype": "text/x-python",
   "name": "python",
   "nbconvert_exporter": "python",
   "pygments_lexer": "ipython3",
   "version": "3.11.5"
  }
 },
 "nbformat": 4,
 "nbformat_minor": 2
}
