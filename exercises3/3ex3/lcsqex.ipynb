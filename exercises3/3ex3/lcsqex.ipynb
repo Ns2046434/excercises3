{
 "cells": [
  {
   "cell_type": "markdown",
   "metadata": {},
   "source": [
    "Given: Two DNA strings s\n",
    " and t\n",
    " (each having length at most 1 kbp) in FASTA format.\n",
    "\n",
    "Return: A longest common subsequence of s\n",
    " and t\n",
    ". (If more than one solution exists, you may return any one.)"
   ]
  },
  {
   "cell_type": "code",
   "execution_count": 23,
   "metadata": {},
   "outputs": [
    {
     "name": "stdout",
     "output_type": "stream",
     "text": [
      "CCAACCGCCGTGTGGGTATGCCTGAAAATCGAAACCTCTATATGTTACCATTAGGGGCGGGTGTATTCATTTAGCCTCTCTCGTTAGCGGATAAAAGTTGCTGGTTCCATAGTGATACCTAAACACAACCCGGATTAATCACTCGGACGGAACTCCCCAATGCATACTAGACCTAACCGTATCATCTAGTGTCATGGGTTACCTTCCCACAGAGTGGAACGAGGCTCCATTAGATTAACTCCGTGTTAGCCCGGGGCCCTTAGGACTAATGGTTTTAGACAGTAACTAGGAGGCGGTCAGGGAGTTCCAGAGGACTCGGGGGTATACGGAGATGTTTTCGGTGAACTCCTTACGTCGTGATACCACCAGCGCGTTTTCTGGTTTCATGCCCGTAACGTCACCGCAGTTCGGGAATCTGAAAGGGTTTCGGATCCTGTTCCCGACTAATGACAAGCGGCTGACATTGGCGAGTCCTGAACTATTTTAGTTGTAAGGAACCCCACCCCGAGGGATCGCCCACGCGAGGAACAACTAACAGGTCGGTGCCCGATTACTGATGTAGCACGCTCGGAAACCTACCATTAGGAGC\n"
     ]
    }
   ],
   "source": [
    "seqstr = []\n",
    "with open(\"rosalind_lcsq.txt\", 'r') as fa:\n",
    "    seq = \"\"\n",
    "    for line in fa:\n",
    "        line = line.strip()\n",
    "        if line.startswith(\">\"):\n",
    "            if seq: \n",
    "                seqstr.append(seq)\n",
    "                seq = \"\"\n",
    "        else:\n",
    "            seq += line \n",
    "    if seq: \n",
    "        seqstr.append(seq)\n",
    "\n",
    "def longestCommonSubsequence(s, t):\n",
    "    m, n = len(s), len(t)\n",
    "    dp = [[0] * (n + 1) for _ in range(m + 1)]\n",
    "    for i in range(1, m + 1):\n",
    "        for j in range(1, n + 1):\n",
    "            if s[i - 1] == t[j - 1]:\n",
    "                dp[i][j] = dp[i - 1][j - 1] + 1\n",
    "            else:\n",
    "                dp[i][j] = max(dp[i - 1][j], dp[i][j - 1])\n",
    "    \n",
    "    lcs = []\n",
    "    while m > 0 and n > 0:\n",
    "        if s[m - 1] == t[n - 1]:\n",
    "            lcs.append(s[m - 1])\n",
    "            m -= 1\n",
    "            n -= 1\n",
    "        elif dp[m - 1][n] >= dp[m][n - 1]:\n",
    "            m -= 1\n",
    "        else:\n",
    "            n -= 1\n",
    "    \n",
    "    lcs.reverse()\n",
    "    return ''.join(lcs)\n",
    "\n",
    "s, t = seqstr[0], seqstr[1]\n",
    "lcs = longestCommonSubsequence(s, t)\n",
    "print(lcs)"
   ]
  }
 ],
 "metadata": {
  "kernelspec": {
   "display_name": "base",
   "language": "python",
   "name": "python3"
  },
  "language_info": {
   "codemirror_mode": {
    "name": "ipython",
    "version": 3
   },
   "file_extension": ".py",
   "mimetype": "text/x-python",
   "name": "python",
   "nbconvert_exporter": "python",
   "pygments_lexer": "ipython3",
   "version": "3.11.5"
  }
 },
 "nbformat": 4,
 "nbformat_minor": 2
}
