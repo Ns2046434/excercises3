{
 "cells": [
  {
   "cell_type": "markdown",
   "metadata": {},
   "source": [
    "Given: Two DNA strings s\n",
    " and t\n",
    " (each of length at most 1 kbp) in FASTA format.\n",
    "\n",
    "Return: One collection of indices of s\n",
    " in which the symbols of t\n",
    " appear as a subsequence of s\n",
    ". If multiple solutions exist, you may return any one"
   ]
  },
  {
   "cell_type": "code",
   "execution_count": 2,
   "metadata": {},
   "outputs": [
    {
     "name": "stdout",
     "output_type": "stream",
     "text": [
      "3 6 9 13 16 17 18 21 26 27 28 32 35 42 48 49 51 59 63 65 69 71 74 75 76 82 83 85 86 87 90 95 104 107 114 118 122 125 128 130 131 134 137 138 146 149 151 157 161 167 168 176 185 186 189 194 195 200 206 207 213 214 217 228 234 237 240 244 248 249 255 259 260 267 274 276 284 295 296 298 303 305 309 310 315 320 "
     ]
    }
   ],
   "source": [
    "seqstr = []\n",
    "with open(\"rosalind_sseq.txt\", 'r') as fa:\n",
    "    seq = \"\"\n",
    "    for line in fa:\n",
    "        line = line.strip()\n",
    "        if line.startswith(\">\"):\n",
    "            if seq: \n",
    "                seqstr.append(seq)\n",
    "                seq = \"\"\n",
    "        else:\n",
    "            seq += line \n",
    "    if seq: \n",
    "        seqstr.append(seq)\n",
    "\n",
    "def find_spliced_motif(s, t):\n",
    "    position = [0]\n",
    "    for i in t:\n",
    "        position.append(s[position[-1]:].index(i) + 1 + position[-1])\n",
    "    for p in position[1:]:\n",
    "        print(p, end=\" \")\n",
    "\n",
    "s, t = seqstr[0], seqstr[1]\n",
    "find_spliced_motif(s, t)"
   ]
  }
 ],
 "metadata": {
  "kernelspec": {
   "display_name": "base",
   "language": "python",
   "name": "python3"
  },
  "language_info": {
   "codemirror_mode": {
    "name": "ipython",
    "version": 3
   },
   "file_extension": ".py",
   "mimetype": "text/x-python",
   "name": "python",
   "nbconvert_exporter": "python",
   "pygments_lexer": "ipython3",
   "version": "3.11.5"
  }
 },
 "nbformat": 4,
 "nbformat_minor": 2
}
